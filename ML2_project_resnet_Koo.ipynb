{
  "cells": [
    {
      "cell_type": "code",
      "execution_count": 10,
      "metadata": {
        "id": "qEY57y0PSDTB"
      },
      "outputs": [],
      "source": [
        "import os\n",
        "import pandas as pd\n",
        "import numpy as np\n",
        "from PIL import Image\n",
        "from torchvision import transforms\n",
        "from sklearn.model_selection import train_test_split\n",
        "from torch.utils.data import Dataset, DataLoader\n",
        "import torch\n",
        "import torch.nn as nn\n",
        "import torchvision.models as models"
      ]
    },
    {
      "cell_type": "code",
      "execution_count": 11,
      "metadata": {
        "id": "HPR-TaUmSdbl"
      },
      "outputs": [],
      "source": [
        "path_to_images = \"./BMI/Data/Images\"\n",
        "bmi_data = pd.read_csv(\"./BMI/Data/data.csv\")"
      ]
    },
    {
      "cell_type": "code",
      "execution_count": 12,
      "metadata": {},
      "outputs": [
        {
          "name": "stdout",
          "output_type": "stream",
          "text": [
            "✅ Valid image entries: 3962/4206 (Dropped 244 missing)\n"
          ]
        }
      ],
      "source": [
        "import os\n",
        "\n",
        "image_folder = \"./BMI/Data/Images\"\n",
        "\n",
        "# Count total rows before filtering\n",
        "before = len(bmi_data)\n",
        "\n",
        "# Keep only rows where the image file exists\n",
        "bmi_data = bmi_data[bmi_data['name'].apply(lambda fname: os.path.exists(os.path.join(image_folder, fname)))].reset_index(drop=True)\n",
        "\n",
        "# Count total rows after filtering\n",
        "after = len(bmi_data)\n",
        "\n",
        "# 🔍 Report how many were dropped\n",
        "print(f\"✅ Valid image entries: {after}/{before} (Dropped {before - after} missing)\")"
      ]
    },
    {
      "cell_type": "code",
      "execution_count": 13,
      "metadata": {
        "id": "isggEMRySsQn"
      },
      "outputs": [
        {
          "data": {
            "text/html": [
              "<div>\n",
              "<style scoped>\n",
              "    .dataframe tbody tr th:only-of-type {\n",
              "        vertical-align: middle;\n",
              "    }\n",
              "\n",
              "    .dataframe tbody tr th {\n",
              "        vertical-align: top;\n",
              "    }\n",
              "\n",
              "    .dataframe thead th {\n",
              "        text-align: right;\n",
              "    }\n",
              "</style>\n",
              "<table border=\"1\" class=\"dataframe\">\n",
              "  <thead>\n",
              "    <tr style=\"text-align: right;\">\n",
              "      <th></th>\n",
              "      <th>Unnamed: 0</th>\n",
              "      <th>bmi</th>\n",
              "      <th>gender</th>\n",
              "      <th>is_training</th>\n",
              "      <th>name</th>\n",
              "    </tr>\n",
              "  </thead>\n",
              "  <tbody>\n",
              "    <tr>\n",
              "      <th>0</th>\n",
              "      <td>0</td>\n",
              "      <td>34.207396</td>\n",
              "      <td>Male</td>\n",
              "      <td>1</td>\n",
              "      <td>img_0.bmp</td>\n",
              "    </tr>\n",
              "    <tr>\n",
              "      <th>1</th>\n",
              "      <td>1</td>\n",
              "      <td>26.453720</td>\n",
              "      <td>Male</td>\n",
              "      <td>1</td>\n",
              "      <td>img_1.bmp</td>\n",
              "    </tr>\n",
              "    <tr>\n",
              "      <th>2</th>\n",
              "      <td>2</td>\n",
              "      <td>34.967561</td>\n",
              "      <td>Female</td>\n",
              "      <td>1</td>\n",
              "      <td>img_2.bmp</td>\n",
              "    </tr>\n",
              "    <tr>\n",
              "      <th>3</th>\n",
              "      <td>3</td>\n",
              "      <td>22.044766</td>\n",
              "      <td>Female</td>\n",
              "      <td>1</td>\n",
              "      <td>img_3.bmp</td>\n",
              "    </tr>\n",
              "    <tr>\n",
              "      <th>4</th>\n",
              "      <td>6</td>\n",
              "      <td>25.845588</td>\n",
              "      <td>Female</td>\n",
              "      <td>1</td>\n",
              "      <td>img_6.bmp</td>\n",
              "    </tr>\n",
              "  </tbody>\n",
              "</table>\n",
              "</div>"
            ],
            "text/plain": [
              "   Unnamed: 0        bmi  gender  is_training       name\n",
              "0           0  34.207396    Male            1  img_0.bmp\n",
              "1           1  26.453720    Male            1  img_1.bmp\n",
              "2           2  34.967561  Female            1  img_2.bmp\n",
              "3           3  22.044766  Female            1  img_3.bmp\n",
              "4           6  25.845588  Female            1  img_6.bmp"
            ]
          },
          "execution_count": 13,
          "metadata": {},
          "output_type": "execute_result"
        }
      ],
      "source": [
        "bmi_data.head()"
      ]
    },
    {
      "cell_type": "code",
      "execution_count": 14,
      "metadata": {},
      "outputs": [],
      "source": [
        "class BMIDataset(Dataset):\n",
        "    def __init__(self, dataframe, img_dir, transform=None):\n",
        "        self.data = dataframe\n",
        "        self.img_dir = img_dir\n",
        "        self.transform = transform\n",
        "\n",
        "    def __len__(self):\n",
        "        return len(self.data)\n",
        "\n",
        "    def __getitem__(self, idx):\n",
        "        img_path = os.path.join(self.img_dir, self.data.iloc[idx]['name'])\n",
        "        image = Image.open(img_path).convert(\"RGB\")\n",
        "        label = self.data.iloc[idx]['bmi']\n",
        "\n",
        "        if self.transform:\n",
        "            image = self.transform(image)\n",
        "\n",
        "        return image, torch.tensor(label, dtype=torch.float32)"
      ]
    },
    {
      "cell_type": "code",
      "execution_count": 15,
      "metadata": {},
      "outputs": [],
      "source": [
        "transform = transforms.Compose([\n",
        "    transforms.Resize((224, 224)),\n",
        "    transforms.ToTensor(),\n",
        "    transforms.Normalize(mean=[0.485, 0.456, 0.406],\n",
        "                         std=[0.229, 0.224, 0.225])\n",
        "])"
      ]
    },
    {
      "cell_type": "code",
      "execution_count": 16,
      "metadata": {},
      "outputs": [],
      "source": [
        "train_df = bmi_data[bmi_data['is_training'] == 1]\n",
        "test_df = bmi_data[bmi_data['is_training'] == 0]\n",
        "\n",
        "train_dataset = BMIDataset(train_df, path_to_images, transform)\n",
        "test_dataset = BMIDataset(test_df, path_to_images, transform)\n",
        "\n",
        "train_loader = DataLoader(train_dataset, batch_size=32, shuffle=True)\n",
        "test_loader = DataLoader(test_dataset, batch_size=32, shuffle=False)"
      ]
    },
    {
      "cell_type": "code",
      "execution_count": null,
      "metadata": {},
      "outputs": [
        {
          "name": "stderr",
          "output_type": "stream",
          "text": [
            "/opt/anaconda3/envs/bayes/lib/python3.10/site-packages/torchvision/models/_utils.py:208: UserWarning: The parameter 'pretrained' is deprecated since 0.13 and may be removed in the future, please use 'weights' instead.\n",
            "  warnings.warn(\n",
            "/opt/anaconda3/envs/bayes/lib/python3.10/site-packages/torchvision/models/_utils.py:223: UserWarning: Arguments other than a weight enum or `None` for 'weights' are deprecated since 0.13 and may be removed in the future. The current behavior is equivalent to passing `weights=ResNet18_Weights.IMAGENET1K_V1`. You can also use `weights=ResNet18_Weights.DEFAULT` to get the most up-to-date weights.\n",
            "  warnings.warn(msg)\n"
          ]
        }
      ],
      "source": [
        "device = torch.device(\"cuda\" if torch.cuda.is_available() else \"cpu\")\n",
        "\n",
        "model = models.resnet18(pretrained=True)\n",
        "model.fc = nn.Linear(model.fc.in_features, 1)  # Replace final layer\n",
        "\n",
        "model = model.to(device)"
      ]
    },
    {
      "cell_type": "code",
      "execution_count": 18,
      "metadata": {},
      "outputs": [
        {
          "name": "stdout",
          "output_type": "stream",
          "text": [
            "Epoch 1, Loss: 841.5256\n",
            "Epoch 2, Loss: 507.3380\n",
            "Epoch 3, Loss: 320.8967\n",
            "Epoch 4, Loss: 184.3296\n",
            "Epoch 5, Loss: 94.7529\n",
            "Epoch 6, Loss: 43.8090\n",
            "Epoch 7, Loss: 18.3221\n",
            "Epoch 8, Loss: 8.7604\n",
            "Epoch 9, Loss: 5.1802\n",
            "Epoch 10, Loss: 4.2157\n"
          ]
        }
      ],
      "source": [
        "criterion = nn.MSELoss()\n",
        "optimizer = torch.optim.Adam(model.parameters(), lr=1e-4)\n",
        "\n",
        "num_epochs = 10\n",
        "\n",
        "for epoch in range(num_epochs):\n",
        "    model.train()\n",
        "    running_loss = 0.0\n",
        "\n",
        "    for images, targets in train_loader:\n",
        "        images, targets = images.to(device), targets.to(device)\n",
        "\n",
        "        optimizer.zero_grad()\n",
        "        outputs = model(images).squeeze()\n",
        "        loss = criterion(outputs, targets)\n",
        "        loss.backward()\n",
        "        optimizer.step()\n",
        "\n",
        "        running_loss += loss.item()\n",
        "\n",
        "    print(f\"Epoch {epoch+1}, Loss: {running_loss / len(train_loader):.4f}\")"
      ]
    },
    {
      "cell_type": "code",
      "execution_count": 19,
      "metadata": {},
      "outputs": [],
      "source": [
        "torch.save(model.state_dict(), \"resnet_bmi_weights.pth\")"
      ]
    },
    {
      "cell_type": "code",
      "execution_count": 20,
      "metadata": {},
      "outputs": [
        {
          "name": "stdout",
          "output_type": "stream",
          "text": [
            "MSE: 53.999628013476446\n",
            "R² Score: 0.3639082374155037\n"
          ]
        }
      ],
      "source": [
        "model.eval()\n",
        "preds, labels = [], []\n",
        "\n",
        "with torch.no_grad():\n",
        "    for images, targets in test_loader:\n",
        "        images = images.to(device)\n",
        "        outputs = model(images).squeeze().cpu().numpy()\n",
        "        preds.extend(outputs)\n",
        "        labels.extend(targets.numpy())\n",
        "\n",
        "from sklearn.metrics import mean_squared_error, r2_score\n",
        "print(\"MSE:\", mean_squared_error(labels, preds))\n",
        "print(\"R² Score:\", r2_score(labels, preds))"
      ]
    },
    {
      "cell_type": "code",
      "execution_count": 22,
      "metadata": {},
      "outputs": [
        {
          "name": "stdout",
          "output_type": "stream",
          "text": [
            "Pearson r: 0.6525977\n"
          ]
        }
      ],
      "source": [
        "from scipy.stats import pearsonr\n",
        "r_value, _ = pearsonr(labels, preds)\n",
        "print(\"Pearson r:\", r_value)"
      ]
    },
    {
      "cell_type": "code",
      "execution_count": 21,
      "metadata": {},
      "outputs": [
        {
          "name": "stdout",
          "output_type": "stream",
          "text": [
            "Accuracy within ±1.0 BMI: 15.43%\n"
          ]
        }
      ],
      "source": [
        "import numpy as np\n",
        "\n",
        "threshold = 1.0 # Adjust as needed\n",
        "labels_np = np.array(labels)\n",
        "preds_np = np.array(preds)\n",
        "\n",
        "accuracy_within_threshold = np.mean(np.abs(labels_np - preds_np) <= threshold)\n",
        "print(f\"Accuracy within ±{threshold} BMI: {accuracy_within_threshold:.2%}\")"
      ]
    },
    {
      "cell_type": "code",
      "execution_count": 24,
      "metadata": {},
      "outputs": [],
      "source": [
        "class BMIDatasetGender(Dataset):\n",
        "    def __init__(self, dataframe, img_dir, transform=None):\n",
        "        self.data = dataframe\n",
        "        self.img_dir = img_dir\n",
        "        self.transform = transform\n",
        "\n",
        "    def __len__(self):\n",
        "        return len(self.data)\n",
        "\n",
        "    def __getitem__(self, idx):\n",
        "        img_path = os.path.join(self.img_dir, self.data.iloc[idx]['name'])\n",
        "        image = Image.open(img_path).convert(\"RGB\")\n",
        "        bmi = self.data.iloc[idx]['bmi']\n",
        "        gender = self.data.iloc[idx]['gender']  # assumes gender column exists (e.g., 'M' or 'F')\n",
        "\n",
        "        if self.transform:\n",
        "            image = self.transform(image)\n",
        "\n",
        "        return image, torch.tensor(bmi, dtype=torch.float32), gender"
      ]
    },
    {
      "cell_type": "code",
      "execution_count": 26,
      "metadata": {},
      "outputs": [],
      "source": [
        "transform = transforms.Compose([\n",
        "    transforms.Resize((224, 224)),\n",
        "    transforms.ToTensor(),\n",
        "    transforms.Normalize(mean=[0.485, 0.456, 0.406],\n",
        "                         std=[0.229, 0.224, 0.225])\n",
        "])"
      ]
    },
    {
      "cell_type": "code",
      "execution_count": 27,
      "metadata": {},
      "outputs": [],
      "source": [
        "train_df = bmi_data[bmi_data['is_training'] == 1]\n",
        "test_df = bmi_data[bmi_data['is_training'] == 0]\n",
        "\n",
        "train_dataset = BMIDatasetGender(train_df, path_to_images, transform)\n",
        "test_dataset = BMIDatasetGender(test_df, path_to_images, transform)\n",
        "\n",
        "train_loader = DataLoader(train_dataset, batch_size=32, shuffle=True)\n",
        "test_loader = DataLoader(test_dataset, batch_size=32, shuffle=False)"
      ]
    },
    {
      "cell_type": "code",
      "execution_count": null,
      "metadata": {},
      "outputs": [],
      "source": [
        "model.eval()\n",
        "preds, labels, genders = [], [], []\n",
        "\n",
        "with torch.no_grad():\n",
        "    for images, targets, gender_batch in test_loader:\n",
        "        images = images.to(device)\n",
        "        outputs = model(images).squeeze().cpu().numpy()\n",
        "        preds.extend(outputs)\n",
        "        labels.extend(targets.numpy())\n",
        "        genders.extend(gender_batch)  # gender_batch is a list of strings (e.g., 'Male', 'Female')"
      ]
    },
    {
      "cell_type": "code",
      "execution_count": 32,
      "metadata": {},
      "outputs": [
        {
          "name": "stdout",
          "output_type": "stream",
          "text": [
            "\n",
            "--- Gender: Male ---\n",
            "MSE: 48.5145263671875\n",
            "R² Score: 0.39741820096969604\n",
            "Pearson r: 0.6928\n",
            "\n",
            "--- Gender: Female ---\n",
            "MSE: 61.206207275390625\n",
            "R² Score: 0.3206917643547058\n",
            "Pearson r: 0.6013\n"
          ]
        }
      ],
      "source": [
        "import numpy as np\n",
        "from sklearn.metrics import mean_squared_error, r2_score\n",
        "from scipy.stats import pearsonr\n",
        "\n",
        "preds = np.array(preds)\n",
        "labels = np.array(labels)\n",
        "genders = np.array(genders)\n",
        "\n",
        "for gender in ['Male', 'Female']:\n",
        "    idx = np.where(genders == gender)[0]\n",
        "    gender_preds = preds[idx]\n",
        "    gender_labels = labels[idx]\n",
        "\n",
        "    print(f\"\\n--- Gender: {gender} ---\")\n",
        "    print(\"MSE:\", mean_squared_error(gender_labels, gender_preds))\n",
        "    print(\"R² Score:\", r2_score(gender_labels, gender_preds))\n",
        "    r, _ = pearsonr(gender_labels, gender_preds)\n",
        "    print(\"Pearson r:\", round(r, 4))"
      ]
    },
    {
      "cell_type": "markdown",
      "metadata": {},
      "source": [
        "Checking for Overfit\n"
      ]
    },
    {
      "cell_type": "code",
      "execution_count": 36,
      "metadata": {},
      "outputs": [],
      "source": [
        "model.eval()\n",
        "train_preds, train_labels, train_genders = [], [], []\n",
        "\n",
        "with torch.no_grad():\n",
        "    for images, targets, gender_batch in train_loader:\n",
        "        images = images.to(device)\n",
        "        outputs = model(images).squeeze().cpu().numpy()\n",
        "        train_preds.extend(outputs)\n",
        "        train_labels.extend(targets.numpy())\n",
        "        train_genders.extend(gender_batch)  # gender_batch is a list of strings (e.g., 'Male', 'Female')"
      ]
    },
    {
      "cell_type": "code",
      "execution_count": 37,
      "metadata": {},
      "outputs": [
        {
          "name": "stdout",
          "output_type": "stream",
          "text": [
            "\n",
            "--- Gender: Male ---\n",
            "MSE: 2.7148563861846924\n",
            "R² Score: 0.9548702836036682\n",
            "Pearson r: 0.9902\n",
            "\n",
            "--- Gender: Female ---\n",
            "MSE: 2.4232895374298096\n",
            "R² Score: 0.965533971786499\n",
            "Pearson r: 0.9907\n"
          ]
        }
      ],
      "source": [
        "import numpy as np\n",
        "from sklearn.metrics import mean_squared_error, r2_score\n",
        "from scipy.stats import pearsonr\n",
        "\n",
        "preds = np.array(train_preds)\n",
        "labels = np.array(train_labels)\n",
        "genders = np.array(train_genders)\n",
        "\n",
        "for gender in ['Male', 'Female']:\n",
        "    idx = np.where(genders == gender)[0]\n",
        "    gender_preds = preds[idx]\n",
        "    gender_labels = labels[idx]\n",
        "\n",
        "    print(f\"\\n--- Gender: {gender} ---\")\n",
        "    print(\"MSE:\", mean_squared_error(gender_labels, gender_preds))\n",
        "    print(\"R² Score:\", r2_score(gender_labels, gender_preds))\n",
        "    r, _ = pearsonr(gender_labels, gender_preds)\n",
        "    print(\"Pearson r:\", round(r, 4))"
      ]
    },
    {
      "cell_type": "markdown",
      "metadata": {},
      "source": [
        "Redo the model training"
      ]
    },
    {
      "cell_type": "code",
      "execution_count": 42,
      "metadata": {},
      "outputs": [
        {
          "name": "stderr",
          "output_type": "stream",
          "text": [
            "/var/folders/j2/gbnqt5g13fbdlhczrh40l8780000gn/T/ipykernel_26414/1370985569.py:49: DeprecationWarning: Calling nonzero on 0d arrays is deprecated, as it behaves surprisingly. Use `atleast_1d(cond).nonzero()` if the old behavior was intended. If the context of this warning is of the form `arr[nonzero(cond)]`, just use `arr[cond]`.\n",
            "  idx = np.where(val_genders == gender)[0]\n"
          ]
        },
        {
          "name": "stdout",
          "output_type": "stream",
          "text": [
            "Val Pearson r (Male): N/A (not enough samples)\n",
            "Val Pearson r (Female): N/A (not enough samples)\n",
            "Val Pearson r (All): 0.299\n",
            "Epoch 1: Train Loss: 785.1815 | Val Loss: 674.2072 | Val R²: -6.914\n"
          ]
        },
        {
          "name": "stderr",
          "output_type": "stream",
          "text": [
            "/var/folders/j2/gbnqt5g13fbdlhczrh40l8780000gn/T/ipykernel_26414/1370985569.py:49: DeprecationWarning: Calling nonzero on 0d arrays is deprecated, as it behaves surprisingly. Use `atleast_1d(cond).nonzero()` if the old behavior was intended. If the context of this warning is of the form `arr[nonzero(cond)]`, just use `arr[cond]`.\n",
            "  idx = np.where(val_genders == gender)[0]\n"
          ]
        },
        {
          "name": "stdout",
          "output_type": "stream",
          "text": [
            "Val Pearson r (Male): N/A (not enough samples)\n",
            "Val Pearson r (Female): N/A (not enough samples)\n",
            "Val Pearson r (All): 0.635\n",
            "Epoch 2: Train Loss: 484.1349 | Val Loss: 441.6921 | Val R²: -4.198\n"
          ]
        },
        {
          "name": "stderr",
          "output_type": "stream",
          "text": [
            "/var/folders/j2/gbnqt5g13fbdlhczrh40l8780000gn/T/ipykernel_26414/1370985569.py:49: DeprecationWarning: Calling nonzero on 0d arrays is deprecated, as it behaves surprisingly. Use `atleast_1d(cond).nonzero()` if the old behavior was intended. If the context of this warning is of the form `arr[nonzero(cond)]`, just use `arr[cond]`.\n",
            "  idx = np.where(val_genders == gender)[0]\n"
          ]
        },
        {
          "name": "stdout",
          "output_type": "stream",
          "text": [
            "Val Pearson r (Male): N/A (not enough samples)\n",
            "Val Pearson r (Female): N/A (not enough samples)\n",
            "Val Pearson r (All): 0.607\n",
            "Epoch 3: Train Loss: 301.6793 | Val Loss: 318.9215 | Val R²: -2.750\n"
          ]
        },
        {
          "name": "stderr",
          "output_type": "stream",
          "text": [
            "/var/folders/j2/gbnqt5g13fbdlhczrh40l8780000gn/T/ipykernel_26414/1370985569.py:49: DeprecationWarning: Calling nonzero on 0d arrays is deprecated, as it behaves surprisingly. Use `atleast_1d(cond).nonzero()` if the old behavior was intended. If the context of this warning is of the form `arr[nonzero(cond)]`, just use `arr[cond]`.\n",
            "  idx = np.where(val_genders == gender)[0]\n"
          ]
        },
        {
          "name": "stdout",
          "output_type": "stream",
          "text": [
            "Val Pearson r (Male): N/A (not enough samples)\n",
            "Val Pearson r (Female): N/A (not enough samples)\n",
            "Val Pearson r (All): 0.647\n",
            "Epoch 4: Train Loss: 168.0639 | Val Loss: 168.9425 | Val R²: -0.989\n"
          ]
        },
        {
          "name": "stderr",
          "output_type": "stream",
          "text": [
            "/var/folders/j2/gbnqt5g13fbdlhczrh40l8780000gn/T/ipykernel_26414/1370985569.py:49: DeprecationWarning: Calling nonzero on 0d arrays is deprecated, as it behaves surprisingly. Use `atleast_1d(cond).nonzero()` if the old behavior was intended. If the context of this warning is of the form `arr[nonzero(cond)]`, just use `arr[cond]`.\n",
            "  idx = np.where(val_genders == gender)[0]\n"
          ]
        },
        {
          "name": "stdout",
          "output_type": "stream",
          "text": [
            "Val Pearson r (Male): N/A (not enough samples)\n",
            "Val Pearson r (Female): N/A (not enough samples)\n",
            "Val Pearson r (All): 0.625\n",
            "Epoch 5: Train Loss: 80.5640 | Val Loss: 140.0996 | Val R²: -0.647\n"
          ]
        },
        {
          "name": "stderr",
          "output_type": "stream",
          "text": [
            "/var/folders/j2/gbnqt5g13fbdlhczrh40l8780000gn/T/ipykernel_26414/1370985569.py:49: DeprecationWarning: Calling nonzero on 0d arrays is deprecated, as it behaves surprisingly. Use `atleast_1d(cond).nonzero()` if the old behavior was intended. If the context of this warning is of the form `arr[nonzero(cond)]`, just use `arr[cond]`.\n",
            "  idx = np.where(val_genders == gender)[0]\n"
          ]
        },
        {
          "name": "stdout",
          "output_type": "stream",
          "text": [
            "Val Pearson r (Male): N/A (not enough samples)\n",
            "Val Pearson r (Female): N/A (not enough samples)\n",
            "Val Pearson r (All): 0.658\n",
            "Epoch 6: Train Loss: 34.0328 | Val Loss: 65.4829 | Val R²: 0.228\n"
          ]
        },
        {
          "name": "stderr",
          "output_type": "stream",
          "text": [
            "/var/folders/j2/gbnqt5g13fbdlhczrh40l8780000gn/T/ipykernel_26414/1370985569.py:49: DeprecationWarning: Calling nonzero on 0d arrays is deprecated, as it behaves surprisingly. Use `atleast_1d(cond).nonzero()` if the old behavior was intended. If the context of this warning is of the form `arr[nonzero(cond)]`, just use `arr[cond]`.\n",
            "  idx = np.where(val_genders == gender)[0]\n"
          ]
        },
        {
          "name": "stdout",
          "output_type": "stream",
          "text": [
            "Val Pearson r (Male): N/A (not enough samples)\n",
            "Val Pearson r (Female): N/A (not enough samples)\n",
            "Val Pearson r (All): 0.640\n",
            "Epoch 7: Train Loss: 13.4323 | Val Loss: 63.6234 | Val R²: 0.250\n"
          ]
        },
        {
          "name": "stderr",
          "output_type": "stream",
          "text": [
            "/var/folders/j2/gbnqt5g13fbdlhczrh40l8780000gn/T/ipykernel_26414/1370985569.py:49: DeprecationWarning: Calling nonzero on 0d arrays is deprecated, as it behaves surprisingly. Use `atleast_1d(cond).nonzero()` if the old behavior was intended. If the context of this warning is of the form `arr[nonzero(cond)]`, just use `arr[cond]`.\n",
            "  idx = np.where(val_genders == gender)[0]\n"
          ]
        },
        {
          "name": "stdout",
          "output_type": "stream",
          "text": [
            "Val Pearson r (Male): N/A (not enough samples)\n",
            "Val Pearson r (Female): N/A (not enough samples)\n",
            "Val Pearson r (All): 0.643\n",
            "Epoch 8: Train Loss: 7.4238 | Val Loss: 49.6673 | Val R²: 0.413\n"
          ]
        },
        {
          "name": "stderr",
          "output_type": "stream",
          "text": [
            "/var/folders/j2/gbnqt5g13fbdlhczrh40l8780000gn/T/ipykernel_26414/1370985569.py:49: DeprecationWarning: Calling nonzero on 0d arrays is deprecated, as it behaves surprisingly. Use `atleast_1d(cond).nonzero()` if the old behavior was intended. If the context of this warning is of the form `arr[nonzero(cond)]`, just use `arr[cond]`.\n",
            "  idx = np.where(val_genders == gender)[0]\n"
          ]
        },
        {
          "name": "stdout",
          "output_type": "stream",
          "text": [
            "Val Pearson r (Male): N/A (not enough samples)\n",
            "Val Pearson r (Female): N/A (not enough samples)\n",
            "Val Pearson r (All): 0.639\n",
            "Epoch 9: Train Loss: 5.4138 | Val Loss: 57.2754 | Val R²: 0.325\n",
            "→ Early stopping counter: 1/3\n",
            "Val Pearson r (Male): N/A (not enough samples)\n",
            "Val Pearson r (Female): N/A (not enough samples)\n",
            "Val Pearson r (All): 0.656\n",
            "Epoch 10: Train Loss: 4.7388 | Val Loss: 50.7534 | Val R²: 0.400\n",
            "→ Early stopping counter: 2/3\n"
          ]
        },
        {
          "name": "stderr",
          "output_type": "stream",
          "text": [
            "/var/folders/j2/gbnqt5g13fbdlhczrh40l8780000gn/T/ipykernel_26414/1370985569.py:49: DeprecationWarning: Calling nonzero on 0d arrays is deprecated, as it behaves surprisingly. Use `atleast_1d(cond).nonzero()` if the old behavior was intended. If the context of this warning is of the form `arr[nonzero(cond)]`, just use `arr[cond]`.\n",
            "  idx = np.where(val_genders == gender)[0]\n"
          ]
        }
      ],
      "source": [
        "import torch\n",
        "from sklearn.metrics import r2_score\n",
        "import numpy as np\n",
        "\n",
        "criterion = nn.MSELoss()\n",
        "optimizer = torch.optim.Adam(model.parameters(), lr=1e-4, weight_decay=1e-5)\n",
        "\n",
        "best_val_loss = float('inf')\n",
        "patience = 3\n",
        "trigger_times = 0\n",
        "\n",
        "for epoch in range(num_epochs):\n",
        "    model.train()\n",
        "    train_loss = 0.0\n",
        "\n",
        "    for images, targets, genders in train_loader:\n",
        "        images, targets = images.to(device), targets.to(device)\n",
        "\n",
        "        optimizer.zero_grad()\n",
        "        outputs = model(images).squeeze()\n",
        "        loss = criterion(outputs, targets)\n",
        "        loss.backward()\n",
        "        optimizer.step()\n",
        "\n",
        "        train_loss += loss.item()\n",
        "\n",
        "    train_loss /= len(train_loader)\n",
        "\n",
        "    # Validation\n",
        "    model.eval()\n",
        "    val_loss = 0.0\n",
        "    val_preds, val_labels, val_genders = [], [], []\n",
        "\n",
        "    with torch.no_grad():\n",
        "        for images, targets, genders in test_loader:\n",
        "            images, targets = images.to(device), targets.to(device)\n",
        "            outputs = model(images).squeeze()\n",
        "            loss = criterion(outputs, targets)\n",
        "            val_loss += loss.item()\n",
        "\n",
        "            val_preds.extend(outputs.cpu().numpy())\n",
        "            val_labels.extend(targets.cpu().numpy())\n",
        "            val_genders.extend(genders)\n",
        "\n",
        "    val_loss /= len(test_loader)\n",
        "    val_r2 = r2_score(val_labels, val_preds)\n",
        "\n",
        "    for gender in ['Male', 'Female']:\n",
        "        idx = np.where(val_genders == gender)[0]\n",
        "        if len(idx) > 1:\n",
        "            r, _ = pearsonr(val_labels[idx], val_preds[idx])\n",
        "            print(f\"Val Pearson r ({gender}): {r:.3f}\")\n",
        "        else:\n",
        "            print(f\"Val Pearson r ({gender}): N/A (not enough samples)\")\n",
        "\n",
        "    if len(val_labels) > 1:\n",
        "        r_all, _ = pearsonr(val_labels, val_preds)\n",
        "        print(f\"Val Pearson r (All): {r_all:.3f}\")\n",
        "    else:\n",
        "        print(\"Val Pearson r (All): N/A (not enough samples)\")\n",
        "\n",
        "    print(f\"Epoch {epoch+1}: Train Loss: {train_loss:.4f} | Val Loss: {val_loss:.4f} | Val R²: {val_r2:.3f}\")\n",
        "\n",
        "    # Early stopping\n",
        "    if val_loss < best_val_loss:\n",
        "        best_val_loss = val_loss\n",
        "        trigger_times = 0\n",
        "        torch.save(model.state_dict(), \"best_model.pth\")  # Save best model\n",
        "    else:\n",
        "        trigger_times += 1\n",
        "        print(f\"→ Early stopping counter: {trigger_times}/{patience}\")\n",
        "        if trigger_times >= patience:\n",
        "            print(\"⛔ Early stopping triggered.\")\n",
        "            break"
      ]
    },
    {
      "cell_type": "code",
      "execution_count": 43,
      "metadata": {},
      "outputs": [],
      "source": [
        "model.eval()\n",
        "train_preds, train_labels, train_genders = [], [], []\n",
        "\n",
        "with torch.no_grad():\n",
        "    for images, targets, gender_batch in train_loader:\n",
        "        images = images.to(device)\n",
        "        outputs = model(images).squeeze().cpu().numpy()\n",
        "        train_preds.extend(outputs)\n",
        "        train_labels.extend(targets.numpy())\n",
        "        train_genders.extend(gender_batch)  # gender_batch is a list of strings (e.g., 'Male', 'Female')"
      ]
    },
    {
      "cell_type": "code",
      "execution_count": 44,
      "metadata": {},
      "outputs": [
        {
          "name": "stdout",
          "output_type": "stream",
          "text": [
            "\n",
            "--- Gender: Male ---\n",
            "MSE: 1.3449336290359497\n",
            "R² Score: 0.977642834186554\n",
            "Pearson r: 0.989\n",
            "\n",
            "--- Gender: Female ---\n",
            "MSE: 1.6741993427276611\n",
            "R² Score: 0.9761881232261658\n",
            "Pearson r: 0.9889\n"
          ]
        }
      ],
      "source": [
        "import numpy as np\n",
        "from sklearn.metrics import mean_squared_error, r2_score\n",
        "from scipy.stats import pearsonr\n",
        "\n",
        "preds = np.array(train_preds)\n",
        "labels = np.array(train_labels)\n",
        "genders = np.array(train_genders)\n",
        "\n",
        "for gender in ['Male', 'Female']:\n",
        "    idx = np.where(genders == gender)[0]\n",
        "    gender_preds = preds[idx]\n",
        "    gender_labels = labels[idx]\n",
        "\n",
        "    print(f\"\\n--- Gender: {gender} ---\")\n",
        "    print(\"MSE:\", mean_squared_error(gender_labels, gender_preds))\n",
        "    print(\"R² Score:\", r2_score(gender_labels, gender_preds))\n",
        "    r, _ = pearsonr(gender_labels, gender_preds)\n",
        "    print(\"Pearson r:\", round(r, 4))"
      ]
    }
  ],
  "metadata": {
    "colab": {
      "provenance": []
    },
    "kernelspec": {
      "display_name": "bayes",
      "language": "python",
      "name": "python3"
    },
    "language_info": {
      "codemirror_mode": {
        "name": "ipython",
        "version": 3
      },
      "file_extension": ".py",
      "mimetype": "text/x-python",
      "name": "python",
      "nbconvert_exporter": "python",
      "pygments_lexer": "ipython3",
      "version": "3.10.13"
    }
  },
  "nbformat": 4,
  "nbformat_minor": 0
}
